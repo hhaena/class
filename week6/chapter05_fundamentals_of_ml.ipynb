{
  "cells": [
    {
      "cell_type": "markdown",
      "metadata": {
        "id": "U9Iqw6QPyPLT"
      },
      "source": [
        "This is a companion notebook for the book [Deep Learning with Python, Second Edition](https://www.manning.com/books/deep-learning-with-python-second-edition?a_aid=keras&a_bid=76564dff). For readability, it only contains runnable code blocks and section titles, and omits everything else in the book: text paragraphs, figures, and pseudocode.\n",
        "\n",
        "**If you want to be able to follow what's going on, I recommend reading the notebook side by side with your copy of the book.**\n",
        "\n",
        "This notebook was generated for TensorFlow 2.6."
      ]
    },
    {
      "cell_type": "markdown",
      "metadata": {
        "id": "btJVCH3eyPLb"
      },
      "source": [
        "# Fundamentals of machine learning"
      ]
    },
    {
      "cell_type": "markdown",
      "metadata": {
        "id": "-obD2gAXyPLc"
      },
      "source": [
        "## Generalization: The goal of machine learning"
      ]
    },
    {
      "cell_type": "markdown",
      "metadata": {
        "id": "flj8ffJ3yPLd"
      },
      "source": [
        "### Underfitting and overfitting"
      ]
    },
    {
      "cell_type": "markdown",
      "metadata": {
        "id": "ZsckhLvmyPLd"
      },
      "source": [
        "#### Noisy training data"
      ]
    },
    {
      "cell_type": "markdown",
      "metadata": {
        "id": "MQcpLQ-9yPLe"
      },
      "source": [
        "#### Ambiguous features"
      ]
    },
    {
      "cell_type": "markdown",
      "metadata": {
        "id": "rBw3JqtwyPLf"
      },
      "source": [
        "#### Rare features and spurious correlations"
      ]
    },
    {
      "cell_type": "markdown",
      "metadata": {
        "id": "1aqrOe6wyPLf"
      },
      "source": [
        "**Adding white-noise channels or all-zeros channels to MNIST**"
      ]
    },
    {
      "cell_type": "code",
      "execution_count": 2,
      "metadata": {
        "id": "2Ymg-L6vyPLg"
      },
      "outputs": [],
      "source": [
        "from tensorflow.keras.datasets import mnist\n",
        "import numpy as np\n",
        "\n",
        "(train_images, train_labels), _ = mnist.load_data()\n",
        "train_images = train_images.reshape((60000, 28 * 28))\n",
        "train_images = train_images.astype(\"float32\") / 255\n",
        "\n",
        "train_images_with_noise_channels = np.concatenate(\n",
        "    [train_images, np.random.random((len(train_images), 784))], axis=1)\n",
        "\n",
        "train_images_with_zeros_channels = np.concatenate(\n",
        "    [train_images, np.zeros((len(train_images), 784))], axis=1)"
      ]
    },
    {
      "cell_type": "markdown",
      "metadata": {
        "id": "1HCarBVAyPLj"
      },
      "source": [
        "**Training the same model on MNIST data with noise channels or all-zero channels**"
      ]
    },
    {
      "cell_type": "code",
      "execution_count": 3,
      "metadata": {
        "id": "1VEd-InMyPLk",
        "outputId": "03fb2a39-9ffe-4110-9f56-9616aaac84c0",
        "colab": {
          "base_uri": "https://localhost:8080/"
        }
      },
      "outputs": [
        {
          "output_type": "stream",
          "name": "stdout",
          "text": [
            "Epoch 1/10\n",
            "375/375 [==============================] - 7s 4ms/step - loss: 0.6038 - accuracy: 0.8148 - val_loss: 0.2620 - val_accuracy: 0.9224\n",
            "Epoch 2/10\n",
            "375/375 [==============================] - 1s 4ms/step - loss: 0.2583 - accuracy: 0.9203 - val_loss: 0.2032 - val_accuracy: 0.9413\n",
            "Epoch 3/10\n",
            "375/375 [==============================] - 1s 4ms/step - loss: 0.1679 - accuracy: 0.9479 - val_loss: 0.1640 - val_accuracy: 0.9503\n",
            "Epoch 4/10\n",
            "375/375 [==============================] - 2s 4ms/step - loss: 0.1180 - accuracy: 0.9630 - val_loss: 0.1554 - val_accuracy: 0.9538\n",
            "Epoch 5/10\n",
            "375/375 [==============================] - 2s 5ms/step - loss: 0.0880 - accuracy: 0.9720 - val_loss: 0.1472 - val_accuracy: 0.9544\n",
            "Epoch 6/10\n",
            "375/375 [==============================] - 1s 4ms/step - loss: 0.0648 - accuracy: 0.9804 - val_loss: 0.2045 - val_accuracy: 0.9395\n",
            "Epoch 7/10\n",
            "375/375 [==============================] - 1s 3ms/step - loss: 0.0461 - accuracy: 0.9854 - val_loss: 0.1204 - val_accuracy: 0.9667\n",
            "Epoch 8/10\n",
            "375/375 [==============================] - 1s 3ms/step - loss: 0.0348 - accuracy: 0.9885 - val_loss: 0.1441 - val_accuracy: 0.9595\n",
            "Epoch 9/10\n",
            "375/375 [==============================] - 1s 3ms/step - loss: 0.0255 - accuracy: 0.9921 - val_loss: 0.3064 - val_accuracy: 0.9228\n",
            "Epoch 10/10\n",
            "375/375 [==============================] - 1s 4ms/step - loss: 0.0184 - accuracy: 0.9947 - val_loss: 0.1968 - val_accuracy: 0.9531\n",
            "Epoch 1/10\n",
            "375/375 [==============================] - 3s 5ms/step - loss: 0.2960 - accuracy: 0.9145 - val_loss: 0.1524 - val_accuracy: 0.9604\n",
            "Epoch 2/10\n",
            "375/375 [==============================] - 1s 4ms/step - loss: 0.1221 - accuracy: 0.9645 - val_loss: 0.1121 - val_accuracy: 0.9684\n",
            "Epoch 3/10\n",
            "375/375 [==============================] - 1s 3ms/step - loss: 0.0806 - accuracy: 0.9764 - val_loss: 0.0953 - val_accuracy: 0.9723\n",
            "Epoch 4/10\n",
            "375/375 [==============================] - 1s 4ms/step - loss: 0.0574 - accuracy: 0.9831 - val_loss: 0.0883 - val_accuracy: 0.9721\n",
            "Epoch 5/10\n",
            "375/375 [==============================] - 2s 4ms/step - loss: 0.0433 - accuracy: 0.9870 - val_loss: 0.0896 - val_accuracy: 0.9745\n",
            "Epoch 6/10\n",
            "375/375 [==============================] - 2s 5ms/step - loss: 0.0325 - accuracy: 0.9906 - val_loss: 0.0785 - val_accuracy: 0.9762\n",
            "Epoch 7/10\n",
            "375/375 [==============================] - 1s 4ms/step - loss: 0.0249 - accuracy: 0.9928 - val_loss: 0.0747 - val_accuracy: 0.9787\n",
            "Epoch 8/10\n",
            "375/375 [==============================] - 1s 3ms/step - loss: 0.0189 - accuracy: 0.9949 - val_loss: 0.0766 - val_accuracy: 0.9789\n",
            "Epoch 9/10\n",
            "375/375 [==============================] - 2s 5ms/step - loss: 0.0138 - accuracy: 0.9964 - val_loss: 0.0754 - val_accuracy: 0.9794\n",
            "Epoch 10/10\n",
            "375/375 [==============================] - 2s 5ms/step - loss: 0.0099 - accuracy: 0.9977 - val_loss: 0.0810 - val_accuracy: 0.9785\n"
          ]
        }
      ],
      "source": [
        "from tensorflow import keras\n",
        "from tensorflow.keras import layers\n",
        "\n",
        "def get_model():\n",
        "    model = keras.Sequential([\n",
        "        layers.Dense(512, activation=\"relu\"),\n",
        "        layers.Dense(10, activation=\"softmax\")\n",
        "    ])\n",
        "    model.compile(optimizer=\"rmsprop\",\n",
        "                  loss=\"sparse_categorical_crossentropy\",\n",
        "                  metrics=[\"accuracy\"])\n",
        "    return model\n",
        "\n",
        "model = get_model()\n",
        "history_noise = model.fit(\n",
        "    train_images_with_noise_channels, train_labels,\n",
        "    epochs=10,\n",
        "    batch_size=128,\n",
        "    validation_split=0.2)\n",
        "\n",
        "model = get_model()\n",
        "history_zeros = model.fit(\n",
        "    train_images_with_zeros_channels, train_labels,\n",
        "    epochs=10,\n",
        "    batch_size=128,\n",
        "    validation_split=0.2)"
      ]
    },
    {
      "cell_type": "code",
      "source": [
        "model = get_model()\n",
        "history_original = model.fit(\n",
        "    train_images, train_labels,\n",
        "    epochs=10,\n",
        "    batch_size=128,\n",
        "    validation_split=0.2)"
      ],
      "metadata": {
        "id": "uerdX0o14Xmc",
        "outputId": "08e4231f-00fa-44f3-d9b2-39f050bc8aa5",
        "colab": {
          "base_uri": "https://localhost:8080/"
        }
      },
      "execution_count": 4,
      "outputs": [
        {
          "output_type": "stream",
          "name": "stdout",
          "text": [
            "Epoch 1/10\n",
            "375/375 [==============================] - 2s 4ms/step - loss: 0.2992 - accuracy: 0.9137 - val_loss: 0.1723 - val_accuracy: 0.9485\n",
            "Epoch 2/10\n",
            "375/375 [==============================] - 1s 3ms/step - loss: 0.1226 - accuracy: 0.9643 - val_loss: 0.1132 - val_accuracy: 0.9678\n",
            "Epoch 3/10\n",
            "375/375 [==============================] - 1s 3ms/step - loss: 0.0801 - accuracy: 0.9762 - val_loss: 0.0898 - val_accuracy: 0.9729\n",
            "Epoch 4/10\n",
            "375/375 [==============================] - 1s 3ms/step - loss: 0.0577 - accuracy: 0.9829 - val_loss: 0.0816 - val_accuracy: 0.9766\n",
            "Epoch 5/10\n",
            "375/375 [==============================] - 1s 4ms/step - loss: 0.0421 - accuracy: 0.9875 - val_loss: 0.0753 - val_accuracy: 0.9778\n",
            "Epoch 6/10\n",
            "375/375 [==============================] - 2s 4ms/step - loss: 0.0326 - accuracy: 0.9907 - val_loss: 0.0692 - val_accuracy: 0.9789\n",
            "Epoch 7/10\n",
            "375/375 [==============================] - 2s 5ms/step - loss: 0.0236 - accuracy: 0.9933 - val_loss: 0.0782 - val_accuracy: 0.9782\n",
            "Epoch 8/10\n",
            "375/375 [==============================] - 1s 4ms/step - loss: 0.0185 - accuracy: 0.9952 - val_loss: 0.0742 - val_accuracy: 0.9785\n",
            "Epoch 9/10\n",
            "375/375 [==============================] - 1s 3ms/step - loss: 0.0143 - accuracy: 0.9963 - val_loss: 0.0749 - val_accuracy: 0.9797\n",
            "Epoch 10/10\n",
            "375/375 [==============================] - 1s 3ms/step - loss: 0.0101 - accuracy: 0.9976 - val_loss: 0.0760 - val_accuracy: 0.9808\n"
          ]
        }
      ]
    },
    {
      "cell_type": "markdown",
      "metadata": {
        "id": "PM8YwVFbyPLm"
      },
      "source": [
        "**Plotting a validation accuracy comparison**"
      ]
    },
    {
      "cell_type": "code",
      "execution_count": 5,
      "metadata": {
        "id": "smwj9MZryPLm",
        "outputId": "2ce57223-0c9a-4b6d-ba95-7e447544a9c0",
        "colab": {
          "base_uri": "https://localhost:8080/",
          "height": 490
        }
      },
      "outputs": [
        {
          "output_type": "execute_result",
          "data": {
            "text/plain": [
              "<matplotlib.legend.Legend at 0x7fcf1e727e50>"
            ]
          },
          "metadata": {},
          "execution_count": 5
        },
        {
          "output_type": "display_data",
          "data": {
            "text/plain": [
              "<Figure size 640x480 with 1 Axes>"
            ],
            "image/png": "[encoded data removed]"
          },
          "metadata": {}
        }
      ],
      "source": [
        "import matplotlib.pyplot as plt\n",
        "val_acc_noise = history_noise.history[\"val_accuracy\"]\n",
        "val_acc_zeros = history_zeros.history[\"val_accuracy\"]\n",
        "val_acc_original = history_original.history[\"val_accuracy\"]\n",
        "epochs = range(1, 11)\n",
        "plt.plot(epochs, val_acc_noise, \"b-\",\n",
        "         label=\"Validation accuracy with noise channels\")\n",
        "plt.plot(epochs, val_acc_zeros, \"b--\",\n",
        "         label=\"Validation accuracy with zeros channels\")\n",
        "plt.plot(epochs, val_acc_original, \"r--\", \n",
        "         label=\"Validation accuracy with original data\")\n",
        "plt.title(\"Effect of noise channels on validation accuracy\")\n",
        "plt.xlabel(\"Epochs\")\n",
        "plt.ylabel(\"Accuracy\")\n",
        "plt.legend()"
      ]
    },
    {
      "cell_type": "markdown",
      "metadata": {
        "id": "MhFgkiWyyPLo"
      },
      "source": [
        "### The nature of generalization in deep learning"
      ]
    },
    {
      "cell_type": "markdown",
      "metadata": {
        "id": "2lYbrFzhyPLp"
      },
      "source": [
        "**Fitting a MNIST model with randomly shuffled labels**"
      ]
    },
    {
      "cell_type": "code",
      "execution_count": 6,
      "metadata": {
        "id": "LO773S05yPLp",
        "outputId": "7303a90d-1c20-47ef-a8b5-9b9546b5f831",
        "colab": {
          "base_uri": "https://localhost:8080/"
        }
      },
      "outputs": [
        {
          "output_type": "stream",
          "name": "stdout",
          "text": [
            "Epoch 1/100\n",
            "375/375 [==============================] - 3s 5ms/step - loss: 2.3149 - accuracy: 0.1019 - val_loss: 2.3043 - val_accuracy: 0.1063\n",
            "Epoch 2/100\n",
            "375/375 [==============================] - 1s 3ms/step - loss: 2.2990 - accuracy: 0.1183 - val_loss: 2.3099 - val_accuracy: 0.1027\n",
            "Epoch 3/100\n",
            "375/375 [==============================] - 1s 4ms/step - loss: 2.2913 - accuracy: 0.1269 - val_loss: 2.3175 - val_accuracy: 0.0977\n",
            "Epoch 4/100\n",
            "375/375 [==============================] - 1s 4ms/step - loss: 2.2789 - accuracy: 0.1397 - val_loss: 2.3251 - val_accuracy: 0.1031\n",
            "Epoch 5/100\n",
            "375/375 [==============================] - 1s 3ms/step - loss: 2.2622 - accuracy: 0.1520 - val_loss: 2.3320 - val_accuracy: 0.1028\n",
            "Epoch 6/100\n",
            "375/375 [==============================] - 1s 3ms/step - loss: 2.2425 - accuracy: 0.1666 - val_loss: 2.3474 - val_accuracy: 0.1004\n",
            "Epoch 7/100\n",
            "375/375 [==============================] - 1s 4ms/step - loss: 2.2179 - accuracy: 0.1802 - val_loss: 2.3649 - val_accuracy: 0.1042\n",
            "Epoch 8/100\n",
            "375/375 [==============================] - 1s 3ms/step - loss: 2.1908 - accuracy: 0.1985 - val_loss: 2.3826 - val_accuracy: 0.1003\n",
            "Epoch 9/100\n",
            "375/375 [==============================] - 2s 4ms/step - loss: 2.1603 - accuracy: 0.2149 - val_loss: 2.4122 - val_accuracy: 0.1008\n",
            "Epoch 10/100\n",
            "375/375 [==============================] - 2s 4ms/step - loss: 2.1290 - accuracy: 0.2301 - val_loss: 2.4307 - val_accuracy: 0.0991\n",
            "Epoch 11/100\n",
            "375/375 [==============================] - 1s 4ms/step - loss: 2.0945 - accuracy: 0.2487 - val_loss: 2.4415 - val_accuracy: 0.0997\n",
            "Epoch 12/100\n",
            "375/375 [==============================] - 1s 4ms/step - loss: 2.0575 - accuracy: 0.2671 - val_loss: 2.4815 - val_accuracy: 0.1014\n",
            "Epoch 13/100\n",
            "375/375 [==============================] - 1s 4ms/step - loss: 2.0206 - accuracy: 0.2841 - val_loss: 2.5139 - val_accuracy: 0.1002\n",
            "Epoch 14/100\n",
            "375/375 [==============================] - 1s 4ms/step - loss: 1.9829 - accuracy: 0.2987 - val_loss: 2.5382 - val_accuracy: 0.1011\n",
            "Epoch 15/100\n",
            "375/375 [==============================] - 1s 4ms/step - loss: 1.9407 - accuracy: 0.3176 - val_loss: 2.5708 - val_accuracy: 0.1021\n",
            "Epoch 16/100\n",
            "375/375 [==============================] - 1s 4ms/step - loss: 1.9026 - accuracy: 0.3324 - val_loss: 2.6021 - val_accuracy: 0.0993\n",
            "Epoch 17/100\n",
            "375/375 [==============================] - 1s 3ms/step - loss: 1.8647 - accuracy: 0.3477 - val_loss: 2.6496 - val_accuracy: 0.0988\n",
            "Epoch 18/100\n",
            "375/375 [==============================] - 2s 4ms/step - loss: 1.8259 - accuracy: 0.3654 - val_loss: 2.6684 - val_accuracy: 0.1011\n",
            "Epoch 19/100\n",
            "375/375 [==============================] - 2s 4ms/step - loss: 1.7870 - accuracy: 0.3775 - val_loss: 2.7251 - val_accuracy: 0.1018\n",
            "Epoch 20/100\n",
            "375/375 [==============================] - 1s 4ms/step - loss: 1.7495 - accuracy: 0.3934 - val_loss: 2.7601 - val_accuracy: 0.1022\n",
            "Epoch 21/100\n",
            "375/375 [==============================] - 1s 3ms/step - loss: 1.7114 - accuracy: 0.4094 - val_loss: 2.8190 - val_accuracy: 0.1002\n",
            "Epoch 22/100\n",
            "375/375 [==============================] - 1s 3ms/step - loss: 1.6742 - accuracy: 0.4226 - val_loss: 2.8458 - val_accuracy: 0.1000\n",
            "Epoch 23/100\n",
            "375/375 [==============================] - 1s 3ms/step - loss: 1.6389 - accuracy: 0.4374 - val_loss: 2.8874 - val_accuracy: 0.0996\n",
            "Epoch 24/100\n",
            "375/375 [==============================] - 1s 3ms/step - loss: 1.6036 - accuracy: 0.4506 - val_loss: 2.9322 - val_accuracy: 0.1042\n",
            "Epoch 25/100\n",
            "375/375 [==============================] - 1s 3ms/step - loss: 1.5670 - accuracy: 0.4637 - val_loss: 2.9727 - val_accuracy: 0.0994\n",
            "Epoch 26/100\n",
            "375/375 [==============================] - 1s 4ms/step - loss: 1.5324 - accuracy: 0.4773 - val_loss: 3.0343 - val_accuracy: 0.0967\n",
            "Epoch 27/100\n",
            "375/375 [==============================] - 2s 4ms/step - loss: 1.4992 - accuracy: 0.4905 - val_loss: 3.0822 - val_accuracy: 0.1028\n",
            "Epoch 28/100\n",
            "375/375 [==============================] - 2s 4ms/step - loss: 1.4669 - accuracy: 0.5008 - val_loss: 3.1460 - val_accuracy: 0.0988\n",
            "Epoch 29/100\n",
            "375/375 [==============================] - 1s 4ms/step - loss: 1.4334 - accuracy: 0.5113 - val_loss: 3.1764 - val_accuracy: 0.1004\n",
            "Epoch 30/100\n",
            "375/375 [==============================] - 1s 4ms/step - loss: 1.4030 - accuracy: 0.5243 - val_loss: 3.2433 - val_accuracy: 0.0994\n",
            "Epoch 31/100\n",
            "375/375 [==============================] - 1s 4ms/step - loss: 1.3725 - accuracy: 0.5359 - val_loss: 3.2738 - val_accuracy: 0.1007\n",
            "Epoch 32/100\n",
            "375/375 [==============================] - 1s 3ms/step - loss: 1.3442 - accuracy: 0.5449 - val_loss: 3.3578 - val_accuracy: 0.0981\n",
            "Epoch 33/100\n",
            "375/375 [==============================] - 1s 3ms/step - loss: 1.3150 - accuracy: 0.5562 - val_loss: 3.4016 - val_accuracy: 0.1005\n",
            "Epoch 34/100\n",
            "375/375 [==============================] - 1s 3ms/step - loss: 1.2883 - accuracy: 0.5652 - val_loss: 3.4497 - val_accuracy: 0.0981\n",
            "Epoch 35/100\n",
            "375/375 [==============================] - 1s 3ms/step - loss: 1.2599 - accuracy: 0.5764 - val_loss: 3.5094 - val_accuracy: 0.0983\n",
            "Epoch 36/100\n",
            "375/375 [==============================] - 1s 4ms/step - loss: 1.2327 - accuracy: 0.5861 - val_loss: 3.5712 - val_accuracy: 0.0991\n",
            "Epoch 37/100\n",
            "375/375 [==============================] - 2s 4ms/step - loss: 1.2081 - accuracy: 0.5955 - val_loss: 3.6282 - val_accuracy: 0.0997\n",
            "Epoch 38/100\n",
            "375/375 [==============================] - 1s 4ms/step - loss: 1.1811 - accuracy: 0.6053 - val_loss: 3.7442 - val_accuracy: 0.0990\n",
            "Epoch 39/100\n",
            "375/375 [==============================] - 1s 4ms/step - loss: 1.1543 - accuracy: 0.6142 - val_loss: 3.7440 - val_accuracy: 0.1002\n",
            "Epoch 40/100\n",
            "375/375 [==============================] - 1s 4ms/step - loss: 1.1319 - accuracy: 0.6219 - val_loss: 3.7992 - val_accuracy: 0.0972\n",
            "Epoch 41/100\n",
            "375/375 [==============================] - 1s 3ms/step - loss: 1.1075 - accuracy: 0.6313 - val_loss: 3.8731 - val_accuracy: 0.0997\n",
            "Epoch 42/100\n",
            "375/375 [==============================] - 1s 4ms/step - loss: 1.0833 - accuracy: 0.6404 - val_loss: 3.9065 - val_accuracy: 0.0967\n",
            "Epoch 43/100\n",
            "375/375 [==============================] - 1s 3ms/step - loss: 1.0633 - accuracy: 0.6485 - val_loss: 3.9844 - val_accuracy: 0.1014\n",
            "Epoch 44/100\n",
            "375/375 [==============================] - 1s 4ms/step - loss: 1.0407 - accuracy: 0.6542 - val_loss: 4.0219 - val_accuracy: 0.1013\n",
            "Epoch 45/100\n",
            "375/375 [==============================] - 1s 3ms/step - loss: 1.0195 - accuracy: 0.6613 - val_loss: 4.0854 - val_accuracy: 0.1011\n",
            "Epoch 46/100\n",
            "375/375 [==============================] - 2s 5ms/step - loss: 0.9973 - accuracy: 0.6679 - val_loss: 4.1453 - val_accuracy: 0.0993\n",
            "Epoch 47/100\n",
            "375/375 [==============================] - 1s 4ms/step - loss: 0.9779 - accuracy: 0.6786 - val_loss: 4.2154 - val_accuracy: 0.0990\n",
            "Epoch 48/100\n",
            "375/375 [==============================] - 1s 4ms/step - loss: 0.9549 - accuracy: 0.6870 - val_loss: 4.2963 - val_accuracy: 0.1001\n",
            "Epoch 49/100\n",
            "375/375 [==============================] - 1s 4ms/step - loss: 0.9377 - accuracy: 0.6900 - val_loss: 4.3255 - val_accuracy: 0.0996\n",
            "Epoch 50/100\n",
            "375/375 [==============================] - 1s 3ms/step - loss: 0.9184 - accuracy: 0.6981 - val_loss: 4.4000 - val_accuracy: 0.1006\n",
            "Epoch 51/100\n",
            "375/375 [==============================] - 1s 4ms/step - loss: 0.9009 - accuracy: 0.7046 - val_loss: 4.5000 - val_accuracy: 0.0987\n",
            "Epoch 52/100\n",
            "375/375 [==============================] - 1s 3ms/step - loss: 0.8820 - accuracy: 0.7110 - val_loss: 4.5449 - val_accuracy: 0.0968\n",
            "Epoch 53/100\n",
            "375/375 [==============================] - 1s 4ms/step - loss: 0.8651 - accuracy: 0.7162 - val_loss: 4.5598 - val_accuracy: 0.0986\n",
            "Epoch 54/100\n",
            "375/375 [==============================] - 1s 4ms/step - loss: 0.8449 - accuracy: 0.7215 - val_loss: 4.6844 - val_accuracy: 0.1009\n",
            "Epoch 55/100\n",
            "375/375 [==============================] - 2s 4ms/step - loss: 0.8311 - accuracy: 0.7290 - val_loss: 4.7542 - val_accuracy: 0.1037\n",
            "Epoch 56/100\n",
            "375/375 [==============================] - 2s 4ms/step - loss: 0.8130 - accuracy: 0.7343 - val_loss: 4.8099 - val_accuracy: 0.0972\n",
            "Epoch 57/100\n",
            "375/375 [==============================] - 1s 4ms/step - loss: 0.7932 - accuracy: 0.7406 - val_loss: 4.8764 - val_accuracy: 0.1008\n",
            "Epoch 58/100\n",
            "375/375 [==============================] - 1s 4ms/step - loss: 0.7795 - accuracy: 0.7449 - val_loss: 4.9223 - val_accuracy: 0.1011\n",
            "Epoch 59/100\n",
            "375/375 [==============================] - 1s 3ms/step - loss: 0.7618 - accuracy: 0.7541 - val_loss: 4.9889 - val_accuracy: 0.0994\n",
            "Epoch 60/100\n",
            "375/375 [==============================] - 1s 3ms/step - loss: 0.7484 - accuracy: 0.7561 - val_loss: 5.0697 - val_accuracy: 0.1001\n",
            "Epoch 61/100\n",
            "375/375 [==============================] - 1s 3ms/step - loss: 0.7342 - accuracy: 0.7630 - val_loss: 5.1576 - val_accuracy: 0.0996\n",
            "Epoch 62/100\n",
            "375/375 [==============================] - 1s 4ms/step - loss: 0.7192 - accuracy: 0.7658 - val_loss: 5.2118 - val_accuracy: 0.1001\n",
            "Epoch 63/100\n",
            "375/375 [==============================] - 1s 4ms/step - loss: 0.7038 - accuracy: 0.7720 - val_loss: 5.3016 - val_accuracy: 0.0990\n",
            "Epoch 64/100\n",
            "375/375 [==============================] - 2s 5ms/step - loss: 0.6879 - accuracy: 0.7773 - val_loss: 5.3376 - val_accuracy: 0.0990\n",
            "Epoch 65/100\n",
            "375/375 [==============================] - 2s 4ms/step - loss: 0.6759 - accuracy: 0.7823 - val_loss: 5.4183 - val_accuracy: 0.0962\n",
            "Epoch 66/100\n",
            "375/375 [==============================] - 1s 3ms/step - loss: 0.6628 - accuracy: 0.7870 - val_loss: 5.5573 - val_accuracy: 0.1001\n",
            "Epoch 67/100\n",
            "375/375 [==============================] - 1s 4ms/step - loss: 0.6486 - accuracy: 0.7912 - val_loss: 5.5936 - val_accuracy: 0.1005\n",
            "Epoch 68/100\n",
            "375/375 [==============================] - 1s 3ms/step - loss: 0.6365 - accuracy: 0.7951 - val_loss: 5.6142 - val_accuracy: 0.1002\n",
            "Epoch 69/100\n",
            "375/375 [==============================] - 1s 4ms/step - loss: 0.6222 - accuracy: 0.8003 - val_loss: 5.6879 - val_accuracy: 0.1010\n",
            "Epoch 70/100\n",
            "375/375 [==============================] - 1s 3ms/step - loss: 0.6129 - accuracy: 0.8023 - val_loss: 5.7907 - val_accuracy: 0.0997\n",
            "Epoch 71/100\n",
            "375/375 [==============================] - 1s 4ms/step - loss: 0.5985 - accuracy: 0.8088 - val_loss: 5.8840 - val_accuracy: 0.0986\n",
            "Epoch 72/100\n",
            "375/375 [==============================] - 1s 4ms/step - loss: 0.5878 - accuracy: 0.8122 - val_loss: 5.9289 - val_accuracy: 0.0997\n",
            "Epoch 73/100\n",
            "375/375 [==============================] - 2s 5ms/step - loss: 0.5773 - accuracy: 0.8165 - val_loss: 5.9966 - val_accuracy: 0.1000\n",
            "Epoch 74/100\n",
            "375/375 [==============================] - 1s 4ms/step - loss: 0.5643 - accuracy: 0.8205 - val_loss: 6.0405 - val_accuracy: 0.0975\n",
            "Epoch 75/100\n",
            "375/375 [==============================] - 1s 3ms/step - loss: 0.5515 - accuracy: 0.8242 - val_loss: 6.1526 - val_accuracy: 0.0984\n",
            "Epoch 76/100\n",
            "375/375 [==============================] - 1s 4ms/step - loss: 0.5438 - accuracy: 0.8269 - val_loss: 6.2177 - val_accuracy: 0.0962\n",
            "Epoch 77/100\n",
            "375/375 [==============================] - 1s 3ms/step - loss: 0.5347 - accuracy: 0.8296 - val_loss: 6.2802 - val_accuracy: 0.1007\n",
            "Epoch 78/100\n",
            "375/375 [==============================] - 1s 4ms/step - loss: 0.5217 - accuracy: 0.8345 - val_loss: 6.3552 - val_accuracy: 0.0952\n",
            "Epoch 79/100\n",
            "375/375 [==============================] - 1s 3ms/step - loss: 0.5119 - accuracy: 0.8379 - val_loss: 6.4315 - val_accuracy: 0.0991\n",
            "Epoch 80/100\n",
            "375/375 [==============================] - 1s 3ms/step - loss: 0.5026 - accuracy: 0.8410 - val_loss: 6.5032 - val_accuracy: 0.0985\n",
            "Epoch 81/100\n",
            "375/375 [==============================] - 1s 4ms/step - loss: 0.4911 - accuracy: 0.8454 - val_loss: 6.5751 - val_accuracy: 0.0981\n",
            "Epoch 82/100\n",
            "375/375 [==============================] - 2s 4ms/step - loss: 0.4824 - accuracy: 0.8459 - val_loss: 6.6734 - val_accuracy: 0.0996\n",
            "Epoch 83/100\n",
            "375/375 [==============================] - 2s 4ms/step - loss: 0.4747 - accuracy: 0.8506 - val_loss: 6.7328 - val_accuracy: 0.0985\n",
            "Epoch 84/100\n",
            "375/375 [==============================] - 1s 3ms/step - loss: 0.4657 - accuracy: 0.8544 - val_loss: 6.7908 - val_accuracy: 0.0967\n",
            "Epoch 85/100\n",
            "375/375 [==============================] - 1s 4ms/step - loss: 0.4532 - accuracy: 0.8590 - val_loss: 6.8570 - val_accuracy: 0.0962\n",
            "Epoch 86/100\n",
            "375/375 [==============================] - 1s 4ms/step - loss: 0.4473 - accuracy: 0.8595 - val_loss: 6.9531 - val_accuracy: 0.0982\n",
            "Epoch 87/100\n",
            "375/375 [==============================] - 1s 3ms/step - loss: 0.4393 - accuracy: 0.8631 - val_loss: 7.0050 - val_accuracy: 0.0983\n",
            "Epoch 88/100\n",
            "375/375 [==============================] - 1s 3ms/step - loss: 0.4299 - accuracy: 0.8647 - val_loss: 7.1101 - val_accuracy: 0.0963\n",
            "Epoch 89/100\n",
            "375/375 [==============================] - 1s 3ms/step - loss: 0.4231 - accuracy: 0.8682 - val_loss: 7.1868 - val_accuracy: 0.1024\n",
            "Epoch 90/100\n",
            "375/375 [==============================] - 1s 3ms/step - loss: 0.4151 - accuracy: 0.8708 - val_loss: 7.2404 - val_accuracy: 0.1006\n",
            "Epoch 91/100\n",
            "375/375 [==============================] - 1s 4ms/step - loss: 0.4084 - accuracy: 0.8736 - val_loss: 7.3071 - val_accuracy: 0.1001\n",
            "Epoch 92/100\n",
            "375/375 [==============================] - 2s 4ms/step - loss: 0.4006 - accuracy: 0.8753 - val_loss: 7.3885 - val_accuracy: 0.0997\n",
            "Epoch 93/100\n",
            "375/375 [==============================] - 1s 4ms/step - loss: 0.3934 - accuracy: 0.8776 - val_loss: 7.4816 - val_accuracy: 0.1001\n",
            "Epoch 94/100\n",
            "375/375 [==============================] - 1s 3ms/step - loss: 0.3848 - accuracy: 0.8798 - val_loss: 7.5400 - val_accuracy: 0.0988\n",
            "Epoch 95/100\n",
            "375/375 [==============================] - 1s 3ms/step - loss: 0.3764 - accuracy: 0.8832 - val_loss: 7.6087 - val_accuracy: 0.1004\n",
            "Epoch 96/100\n",
            "375/375 [==============================] - 1s 4ms/step - loss: 0.3714 - accuracy: 0.8846 - val_loss: 7.7001 - val_accuracy: 0.0959\n",
            "Epoch 97/100\n",
            "375/375 [==============================] - 1s 4ms/step - loss: 0.3635 - accuracy: 0.8873 - val_loss: 7.7263 - val_accuracy: 0.0969\n",
            "Epoch 98/100\n",
            "375/375 [==============================] - 1s 3ms/step - loss: 0.3574 - accuracy: 0.8907 - val_loss: 7.8804 - val_accuracy: 0.0974\n",
            "Epoch 99/100\n",
            "375/375 [==============================] - 1s 3ms/step - loss: 0.3496 - accuracy: 0.8938 - val_loss: 7.9149 - val_accuracy: 0.0980\n",
            "Epoch 100/100\n",
            "375/375 [==============================] - 1s 4ms/step - loss: 0.3451 - accuracy: 0.8946 - val_loss: 8.0542 - val_accuracy: 0.0983\n"
          ]
        }
      ],
      "source": [
        "(train_images, train_labels), _ = mnist.load_data()\n",
        "train_images = train_images.reshape((60000, 28 * 28))\n",
        "train_images = train_images.astype(\"float32\") / 255\n",
        "\n",
        "random_train_labels = train_labels[:]\n",
        "np.random.shuffle(random_train_labels)\n",
        "\n",
        "model = keras.Sequential([\n",
        "    layers.Dense(512, activation=\"relu\"),\n",
        "    layers.Dense(10, activation=\"softmax\")\n",
        "])\n",
        "model.compile(optimizer=\"rmsprop\",\n",
        "              loss=\"sparse_categorical_crossentropy\",\n",
        "              metrics=[\"accuracy\"])\n",
        "\n",
        "history_model = model.fit(\n",
        "    train_images, random_train_labels,\n",
        "    epochs=100,\n",
        "    batch_size=128,\n",
        "    validation_split=0.2)"
      ]
    },
    {
      "cell_type": "code",
      "source": [
        "val_acc_shuffle = history_model.history[\"val_accuracy\"]\n",
        "train_acc_shuffle = history_model.history[\"accuracy\"]\n",
        "\n",
        "epochs = range(1, 101)\n",
        "plt.plot(epochs, val_acc_shuffle, \"b-\",\n",
        "         label=\"Validation accuracy with shuffled data\")\n",
        "plt.plot(epochs, train_acc_shuffle, \"r--\", \n",
        "         label=\"Training accuracy with shuffled data\")\n",
        "plt.title(\"Training meaningless data\")\n",
        "plt.xlabel(\"Epochs\")\n",
        "plt.ylabel(\"Accuracy\")\n",
        "plt.legend()"
      ],
      "metadata": {
        "id": "fa060vTe5MiT",
        "outputId": "fe21ba4e-4834-4b1c-80d2-cf2da2c655d4",
        "colab": {
          "base_uri": "https://localhost:8080/",
          "height": 490
        }
      },
      "execution_count": 7,
      "outputs": [
        {
          "output_type": "execute_result",
          "data": {
            "text/plain": [
              "<matplotlib.legend.Legend at 0x7fcf1e5b3610>"
            ]
          },
          "metadata": {},
          "execution_count": 7
        },
        {
          "output_type": "display_data",
          "data": {
            "text/plain": [
              "<Figure size 640x480 with 1 Axes>"
            ],
            "image/png": "[encoded data removed]"
          },
          "metadata": {}
        }
      ]
    },
    {
      "cell_type": "markdown",
      "metadata": {
        "id": "IxkM639uyPLr"
      },
      "source": [
        "#### The manifold hypothesis"
      ]
    },
    {
      "cell_type": "markdown",
      "metadata": {
        "id": "VeeUgK9syPLr"
      },
      "source": [
        "#### Interpolation as a source of generalization"
      ]
    },
    {
      "cell_type": "markdown",
      "metadata": {
        "id": "-6uG6rtyyPLs"
      },
      "source": [
        "#### Why deep learning works"
      ]
    },
    {
      "cell_type": "markdown",
      "metadata": {
        "id": "hdXxGXsjyPLs"
      },
      "source": [
        "#### Training data is paramount"
      ]
    },
    {
      "cell_type": "markdown",
      "metadata": {
        "id": "7kIY3TvryPLu"
      },
      "source": [
        "## Evaluating machine-learning models"
      ]
    },
    {
      "cell_type": "markdown",
      "metadata": {
        "id": "iP3HJ1VjyPLu"
      },
      "source": [
        "### Training, validation, and test sets"
      ]
    },
    {
      "cell_type": "markdown",
      "metadata": {
        "id": "O3hos0s_yPLv"
      },
      "source": [
        "#### Simple hold-out validation"
      ]
    },
    {
      "cell_type": "markdown",
      "metadata": {
        "id": "tPMvXApIyPLv"
      },
      "source": [
        "#### K-fold validation"
      ]
    },
    {
      "cell_type": "markdown",
      "metadata": {
        "id": "3XmaxK6qyPLw"
      },
      "source": [
        "#### Iterated K-fold validation with shuffling"
      ]
    },
    {
      "cell_type": "markdown",
      "metadata": {
        "id": "naO2Tk9kyPLw"
      },
      "source": [
        "### Beating a common-sense baseline"
      ]
    },
    {
      "cell_type": "markdown",
      "metadata": {
        "id": "QudaPYMTyPLx"
      },
      "source": [
        "### Things to keep in mind about model evaluation"
      ]
    },
    {
      "cell_type": "markdown",
      "metadata": {
        "id": "0BKRILqYyPLx"
      },
      "source": [
        "## Improving model fit"
      ]
    },
    {
      "cell_type": "markdown",
      "metadata": {
        "id": "jPr5aHlLyPLx"
      },
      "source": [
        "### Tuning key gradient descent parameters"
      ]
    },
    {
      "cell_type": "markdown",
      "metadata": {
        "id": "Xewuy9ksyPLy"
      },
      "source": [
        "**Training a MNIST model with an incorrectly high learning rate**"
      ]
    },
    {
      "cell_type": "code",
      "execution_count": 8,
      "metadata": {
        "id": "v4nj31yMyPLy",
        "outputId": "4aa2e24a-4670-49bb-f253-d92de8442b79",
        "colab": {
          "base_uri": "https://localhost:8080/"
        }
      },
      "outputs": [
        {
          "output_type": "stream",
          "name": "stdout",
          "text": [
            "Epoch 1/10\n",
            "375/375 [==============================] - 2s 4ms/step - loss: 781.9617 - accuracy: 0.3134 - val_loss: 2.2259 - val_accuracy: 0.2764\n",
            "Epoch 2/10\n",
            "375/375 [==============================] - 1s 4ms/step - loss: 3.0750 - accuracy: 0.2208 - val_loss: 2.2322 - val_accuracy: 0.2393\n",
            "Epoch 3/10\n",
            "375/375 [==============================] - 1s 4ms/step - loss: 2.6691 - accuracy: 0.2180 - val_loss: 7.1070 - val_accuracy: 0.1365\n",
            "Epoch 4/10\n",
            "375/375 [==============================] - 2s 4ms/step - loss: 2.5366 - accuracy: 0.2044 - val_loss: 2.3047 - val_accuracy: 0.1671\n",
            "Epoch 5/10\n",
            "375/375 [==============================] - 2s 4ms/step - loss: 2.5003 - accuracy: 0.1955 - val_loss: 2.2749 - val_accuracy: 0.1883\n",
            "Epoch 6/10\n",
            "375/375 [==============================] - 1s 4ms/step - loss: 2.3789 - accuracy: 0.2143 - val_loss: 2.0919 - val_accuracy: 0.2267\n",
            "Epoch 7/10\n",
            "375/375 [==============================] - 1s 3ms/step - loss: 2.4428 - accuracy: 0.2296 - val_loss: 2.0795 - val_accuracy: 0.2377\n",
            "Epoch 8/10\n",
            "375/375 [==============================] - 1s 3ms/step - loss: 2.2016 - accuracy: 0.2363 - val_loss: 2.3001 - val_accuracy: 0.2444\n",
            "Epoch 9/10\n",
            "375/375 [==============================] - 1s 3ms/step - loss: 2.3676 - accuracy: 0.2175 - val_loss: 2.2306 - val_accuracy: 0.1894\n",
            "Epoch 10/10\n",
            "375/375 [==============================] - 1s 4ms/step - loss: 2.2525 - accuracy: 0.2096 - val_loss: 2.0887 - val_accuracy: 0.2132\n"
          ]
        },
        {
          "output_type": "execute_result",
          "data": {
            "text/plain": [
              "<keras.callbacks.History at 0x7fcf353c51f0>"
            ]
          },
          "metadata": {},
          "execution_count": 8
        }
      ],
      "source": [
        "(train_images, train_labels), _ = mnist.load_data()\n",
        "train_images = train_images.reshape((60000, 28 * 28))\n",
        "train_images = train_images.astype(\"float32\") / 255\n",
        "\n",
        "model = keras.Sequential([\n",
        "    layers.Dense(512, activation=\"relu\"),\n",
        "    layers.Dense(10, activation=\"softmax\")\n",
        "])\n",
        "model.compile(optimizer=keras.optimizers.RMSprop(1.),\n",
        "              loss=\"sparse_categorical_crossentropy\",\n",
        "              metrics=[\"accuracy\"])\n",
        "model.fit(train_images, train_labels,\n",
        "          epochs=10,\n",
        "          batch_size=128,\n",
        "          validation_split=0.2)"
      ]
    },
    {
      "cell_type": "markdown",
      "metadata": {
        "id": "x34epHoqyPLz"
      },
      "source": [
        "**The same model with a more appropriate learning rate**"
      ]
    },
    {
      "cell_type": "code",
      "execution_count": 9,
      "metadata": {
        "id": "Q9DopW3jyPL0",
        "outputId": "979cdb6a-00d5-488b-a47e-f144580d0423",
        "colab": {
          "base_uri": "https://localhost:8080/"
        }
      },
      "outputs": [
        {
          "output_type": "stream",
          "name": "stdout",
          "text": [
            "Epoch 1/10\n",
            "375/375 [==============================] - 2s 4ms/step - loss: 0.3513 - accuracy: 0.9105 - val_loss: 0.1278 - val_accuracy: 0.9613\n",
            "Epoch 2/10\n",
            "375/375 [==============================] - 1s 4ms/step - loss: 0.1260 - accuracy: 0.9635 - val_loss: 0.1295 - val_accuracy: 0.9666\n",
            "Epoch 3/10\n",
            "375/375 [==============================] - 1s 3ms/step - loss: 0.0987 - accuracy: 0.9737 - val_loss: 0.1361 - val_accuracy: 0.9708\n",
            "Epoch 4/10\n",
            "375/375 [==============================] - 1s 3ms/step - loss: 0.0802 - accuracy: 0.9792 - val_loss: 0.1659 - val_accuracy: 0.9659\n",
            "Epoch 5/10\n",
            "375/375 [==============================] - 1s 3ms/step - loss: 0.0689 - accuracy: 0.9822 - val_loss: 0.1855 - val_accuracy: 0.9606\n",
            "Epoch 6/10\n",
            "375/375 [==============================] - 1s 4ms/step - loss: 0.0596 - accuracy: 0.9858 - val_loss: 0.1741 - val_accuracy: 0.9718\n",
            "Epoch 7/10\n",
            "375/375 [==============================] - 2s 4ms/step - loss: 0.0528 - accuracy: 0.9875 - val_loss: 0.1770 - val_accuracy: 0.9738\n",
            "Epoch 8/10\n",
            "375/375 [==============================] - 1s 4ms/step - loss: 0.0447 - accuracy: 0.9892 - val_loss: 0.2085 - val_accuracy: 0.9716\n",
            "Epoch 9/10\n",
            "375/375 [==============================] - 1s 3ms/step - loss: 0.0417 - accuracy: 0.9900 - val_loss: 0.1945 - val_accuracy: 0.9747\n",
            "Epoch 10/10\n",
            "375/375 [==============================] - 1s 4ms/step - loss: 0.0377 - accuracy: 0.9914 - val_loss: 0.2347 - val_accuracy: 0.9725\n"
          ]
        },
        {
          "output_type": "execute_result",
          "data": {
            "text/plain": [
              "<keras.callbacks.History at 0x7fcf353ac400>"
            ]
          },
          "metadata": {},
          "execution_count": 9
        }
      ],
      "source": [
        "model = keras.Sequential([\n",
        "    layers.Dense(512, activation=\"relu\"),\n",
        "    layers.Dense(10, activation=\"softmax\")\n",
        "])\n",
        "model.compile(optimizer=keras.optimizers.RMSprop(1e-2),\n",
        "              loss=\"sparse_categorical_crossentropy\",\n",
        "              metrics=[\"accuracy\"])\n",
        "model.fit(train_images, train_labels,\n",
        "          epochs=10,\n",
        "          batch_size=128,\n",
        "          validation_split=0.2)"
      ]
    },
    {
      "cell_type": "markdown",
      "metadata": {
        "id": "GgQ6_b5AyPL2"
      },
      "source": [
        "### Leveraging better architecture priors"
      ]
    },
    {
      "cell_type": "markdown",
      "metadata": {
        "id": "uEh0RZe7yPL2"
      },
      "source": [
        "### Increasing model capacity"
      ]
    },
    {
      "cell_type": "markdown",
      "metadata": {
        "id": "kAPa8DTqyPL3"
      },
      "source": [
        "**A simple logistic regression on MNIST**"
      ]
    },
    {
      "cell_type": "code",
      "execution_count": 10,
      "metadata": {
        "id": "C2b71x2xyPL3",
        "outputId": "cf6b6c41-3d65-4b79-8f6e-661e2267df43",
        "colab": {
          "base_uri": "https://localhost:8080/"
        }
      },
      "outputs": [
        {
          "output_type": "stream",
          "name": "stdout",
          "text": [
            "Epoch 1/20\n",
            "375/375 [==============================] - 2s 4ms/step - loss: 0.6743 - accuracy: 0.8324 - val_loss: 0.3622 - val_accuracy: 0.9042\n",
            "Epoch 2/20\n",
            "375/375 [==============================] - 1s 3ms/step - loss: 0.3532 - accuracy: 0.9036 - val_loss: 0.3096 - val_accuracy: 0.9147\n",
            "Epoch 3/20\n",
            "375/375 [==============================] - 1s 3ms/step - loss: 0.3179 - accuracy: 0.9125 - val_loss: 0.2931 - val_accuracy: 0.9174\n",
            "Epoch 4/20\n",
            "375/375 [==============================] - 1s 3ms/step - loss: 0.3016 - accuracy: 0.9161 - val_loss: 0.2824 - val_accuracy: 0.9217\n",
            "Epoch 5/20\n",
            "375/375 [==============================] - 1s 3ms/step - loss: 0.2921 - accuracy: 0.9184 - val_loss: 0.2778 - val_accuracy: 0.9242\n",
            "Epoch 6/20\n",
            "375/375 [==============================] - 1s 3ms/step - loss: 0.2854 - accuracy: 0.9205 - val_loss: 0.2755 - val_accuracy: 0.9243\n",
            "Epoch 7/20\n",
            "375/375 [==============================] - 1s 3ms/step - loss: 0.2805 - accuracy: 0.9218 - val_loss: 0.2731 - val_accuracy: 0.9243\n",
            "Epoch 8/20\n",
            "375/375 [==============================] - 1s 3ms/step - loss: 0.2766 - accuracy: 0.9232 - val_loss: 0.2715 - val_accuracy: 0.9252\n",
            "Epoch 9/20\n",
            "375/375 [==============================] - 1s 3ms/step - loss: 0.2734 - accuracy: 0.9234 - val_loss: 0.2687 - val_accuracy: 0.9277\n",
            "Epoch 10/20\n",
            "375/375 [==============================] - 2s 4ms/step - loss: 0.2707 - accuracy: 0.9249 - val_loss: 0.2676 - val_accuracy: 0.9282\n",
            "Epoch 11/20\n",
            "375/375 [==============================] - 1s 4ms/step - loss: 0.2686 - accuracy: 0.9260 - val_loss: 0.2659 - val_accuracy: 0.9277\n",
            "Epoch 12/20\n",
            "375/375 [==============================] - 1s 3ms/step - loss: 0.2666 - accuracy: 0.9268 - val_loss: 0.2664 - val_accuracy: 0.9281\n",
            "Epoch 13/20\n",
            "375/375 [==============================] - 1s 3ms/step - loss: 0.2644 - accuracy: 0.9269 - val_loss: 0.2643 - val_accuracy: 0.9289\n",
            "Epoch 14/20\n",
            "375/375 [==============================] - 1s 3ms/step - loss: 0.2633 - accuracy: 0.9275 - val_loss: 0.2640 - val_accuracy: 0.9280\n",
            "Epoch 15/20\n",
            "375/375 [==============================] - 1s 3ms/step - loss: 0.2618 - accuracy: 0.9279 - val_loss: 0.2633 - val_accuracy: 0.9292\n",
            "Epoch 16/20\n",
            "375/375 [==============================] - 1s 3ms/step - loss: 0.2604 - accuracy: 0.9285 - val_loss: 0.2623 - val_accuracy: 0.9302\n",
            "Epoch 17/20\n",
            "375/375 [==============================] - 1s 3ms/step - loss: 0.2594 - accuracy: 0.9287 - val_loss: 0.2632 - val_accuracy: 0.9303\n",
            "Epoch 18/20\n",
            "375/375 [==============================] - 1s 3ms/step - loss: 0.2582 - accuracy: 0.9297 - val_loss: 0.2647 - val_accuracy: 0.9286\n",
            "Epoch 19/20\n",
            "375/375 [==============================] - 1s 3ms/step - loss: 0.2573 - accuracy: 0.9294 - val_loss: 0.2635 - val_accuracy: 0.9297\n",
            "Epoch 20/20\n",
            "375/375 [==============================] - 2s 4ms/step - loss: 0.2560 - accuracy: 0.9300 - val_loss: 0.2619 - val_accuracy: 0.9307\n"
          ]
        }
      ],
      "source": [
        "model = keras.Sequential([layers.Dense(10, activation=\"softmax\")])\n",
        "model.compile(optimizer=\"rmsprop\",\n",
        "              loss=\"sparse_categorical_crossentropy\",\n",
        "              metrics=[\"accuracy\"])\n",
        "history_small_model = model.fit(\n",
        "    train_images, train_labels,\n",
        "    epochs=20,\n",
        "    batch_size=128,\n",
        "    validation_split=0.2)"
      ]
    },
    {
      "cell_type": "code",
      "execution_count": 11,
      "metadata": {
        "id": "WoPHE37DyPL5",
        "outputId": "46f842b7-8641-4f06-e1f4-6c3c91e0fe8f",
        "colab": {
          "base_uri": "https://localhost:8080/",
          "height": 490
        }
      },
      "outputs": [
        {
          "output_type": "execute_result",
          "data": {
            "text/plain": [
              "<matplotlib.legend.Legend at 0x7fcf36390be0>"
            ]
          },
          "metadata": {},
          "execution_count": 11
        },
        {
          "output_type": "display_data",
          "data": {
            "text/plain": [
              "<Figure size 640x480 with 1 Axes>"
            ],
            "image/png": "[encoded data removed]"
          },
          "metadata": {}
        }
      ],
      "source": [
        "import matplotlib.pyplot as plt\n",
        "val_loss = history_small_model.history[\"val_loss\"]\n",
        "epochs = range(1, 21)\n",
        "plt.plot(epochs, val_loss, \"b--\",\n",
        "         label=\"Validation loss\")\n",
        "plt.title(\"Effect of insufficient model capacity on validation loss\")\n",
        "plt.xlabel(\"Epochs\")\n",
        "plt.ylabel(\"Loss\")\n",
        "plt.legend()"
      ]
    },
    {
      "cell_type": "code",
      "execution_count": 12,
      "metadata": {
        "id": "_EIimhzEyPL6",
        "outputId": "d2edd92a-4fe1-493c-db07-ae87338ad6da",
        "colab": {
          "base_uri": "https://localhost:8080/"
        }
      },
      "outputs": [
        {
          "output_type": "stream",
          "name": "stdout",
          "text": [
            "Epoch 1/20\n",
            "375/375 [==============================] - 3s 4ms/step - loss: 0.3545 - accuracy: 0.8992 - val_loss: 0.1775 - val_accuracy: 0.9500\n",
            "Epoch 2/20\n",
            "375/375 [==============================] - 1s 3ms/step - loss: 0.1585 - accuracy: 0.9529 - val_loss: 0.1436 - val_accuracy: 0.9572\n",
            "Epoch 3/20\n",
            "375/375 [==============================] - 1s 4ms/step - loss: 0.1131 - accuracy: 0.9655 - val_loss: 0.1064 - val_accuracy: 0.9678\n",
            "Epoch 4/20\n",
            "375/375 [==============================] - 2s 5ms/step - loss: 0.0871 - accuracy: 0.9735 - val_loss: 0.0995 - val_accuracy: 0.9678\n",
            "Epoch 5/20\n",
            "375/375 [==============================] - 1s 4ms/step - loss: 0.0701 - accuracy: 0.9790 - val_loss: 0.0941 - val_accuracy: 0.9728\n",
            "Epoch 6/20\n",
            "375/375 [==============================] - 1s 3ms/step - loss: 0.0571 - accuracy: 0.9835 - val_loss: 0.0910 - val_accuracy: 0.9728\n",
            "Epoch 7/20\n",
            "375/375 [==============================] - 1s 3ms/step - loss: 0.0467 - accuracy: 0.9861 - val_loss: 0.0835 - val_accuracy: 0.9762\n",
            "Epoch 8/20\n",
            "375/375 [==============================] - 1s 4ms/step - loss: 0.0391 - accuracy: 0.9882 - val_loss: 0.0814 - val_accuracy: 0.9766\n",
            "Epoch 9/20\n",
            "375/375 [==============================] - 1s 4ms/step - loss: 0.0337 - accuracy: 0.9894 - val_loss: 0.0999 - val_accuracy: 0.9731\n",
            "Epoch 10/20\n",
            "375/375 [==============================] - 1s 4ms/step - loss: 0.0284 - accuracy: 0.9913 - val_loss: 0.0856 - val_accuracy: 0.9773\n",
            "Epoch 11/20\n",
            "375/375 [==============================] - 1s 3ms/step - loss: 0.0246 - accuracy: 0.9926 - val_loss: 0.1076 - val_accuracy: 0.9729\n",
            "Epoch 12/20\n",
            "375/375 [==============================] - 1s 4ms/step - loss: 0.0210 - accuracy: 0.9936 - val_loss: 0.1012 - val_accuracy: 0.9753\n",
            "Epoch 13/20\n",
            "375/375 [==============================] - 2s 5ms/step - loss: 0.0173 - accuracy: 0.9946 - val_loss: 0.1063 - val_accuracy: 0.9756\n",
            "Epoch 14/20\n",
            "375/375 [==============================] - 1s 3ms/step - loss: 0.0143 - accuracy: 0.9955 - val_loss: 0.1033 - val_accuracy: 0.9768\n",
            "Epoch 15/20\n",
            "375/375 [==============================] - 1s 4ms/step - loss: 0.0122 - accuracy: 0.9963 - val_loss: 0.1029 - val_accuracy: 0.9784\n",
            "Epoch 16/20\n",
            "375/375 [==============================] - 1s 3ms/step - loss: 0.0105 - accuracy: 0.9971 - val_loss: 0.1140 - val_accuracy: 0.9764\n",
            "Epoch 17/20\n",
            "375/375 [==============================] - 1s 3ms/step - loss: 0.0094 - accuracy: 0.9971 - val_loss: 0.1165 - val_accuracy: 0.9753\n",
            "Epoch 18/20\n",
            "375/375 [==============================] - 1s 4ms/step - loss: 0.0081 - accuracy: 0.9971 - val_loss: 0.1106 - val_accuracy: 0.9785\n",
            "Epoch 19/20\n",
            "375/375 [==============================] - 1s 4ms/step - loss: 0.0076 - accuracy: 0.9977 - val_loss: 0.1109 - val_accuracy: 0.9787\n",
            "Epoch 20/20\n",
            "375/375 [==============================] - 1s 3ms/step - loss: 0.0064 - accuracy: 0.9980 - val_loss: 0.1197 - val_accuracy: 0.9774\n"
          ]
        }
      ],
      "source": [
        "model = keras.Sequential([\n",
        "    layers.Dense(96, activation=\"relu\"),\n",
        "    layers.Dense(96, activation=\"relu\"),\n",
        "    layers.Dense(10, activation=\"softmax\"),\n",
        "])\n",
        "model.compile(optimizer=\"rmsprop\",\n",
        "              loss=\"sparse_categorical_crossentropy\",\n",
        "              metrics=[\"accuracy\"])\n",
        "history_large_model = model.fit(\n",
        "    train_images, train_labels,\n",
        "    epochs=20,\n",
        "    batch_size=128,\n",
        "    validation_split=0.2)"
      ]
    },
    {
      "cell_type": "markdown",
      "metadata": {
        "id": "GnQt0A_PyPL7"
      },
      "source": [
        "## Improving generalization"
      ]
    },
    {
      "cell_type": "markdown",
      "metadata": {
        "id": "natwzWd-yPL7"
      },
      "source": [
        "### Dataset curation"
      ]
    },
    {
      "cell_type": "markdown",
      "metadata": {
        "id": "qrkvHcO9yPL7"
      },
      "source": [
        "### Feature engineering"
      ]
    },
    {
      "cell_type": "markdown",
      "metadata": {
        "id": "cV-CSI2IyPL8"
      },
      "source": [
        "### Using early stopping"
      ]
    },
    {
      "cell_type": "markdown",
      "metadata": {
        "id": "yfkBuJZZyPL8"
      },
      "source": [
        "### Regularizing your model"
      ]
    },
    {
      "cell_type": "markdown",
      "metadata": {
        "id": "c3s7LecByPL8"
      },
      "source": [
        "#### Reducing the network's size"
      ]
    },
    {
      "cell_type": "markdown",
      "metadata": {
        "id": "GS0lLd0GyPL9"
      },
      "source": [
        "**Original model**"
      ]
    },
    {
      "cell_type": "code",
      "execution_count": 13,
      "metadata": {
        "id": "B5W5zaqDyPL9",
        "outputId": "ae8d49b0-4394-49cd-9071-c3d4e7bffb57",
        "colab": {
          "base_uri": "https://localhost:8080/"
        }
      },
      "outputs": [
        {
          "output_type": "stream",
          "name": "stdout",
          "text": [
            "Epoch 1/20\n",
            "30/30 [==============================] - 3s 57ms/step - loss: 0.5340 - accuracy: 0.7687 - val_loss: 0.4125 - val_accuracy: 0.8547\n",
            "Epoch 2/20\n",
            "30/30 [==============================] - 1s 26ms/step - loss: 0.3317 - accuracy: 0.8944 - val_loss: 0.3175 - val_accuracy: 0.8853\n",
            "Epoch 3/20\n",
            "30/30 [==============================] - 1s 23ms/step - loss: 0.2475 - accuracy: 0.9183 - val_loss: 0.2848 - val_accuracy: 0.8916\n",
            "Epoch 4/20\n",
            "30/30 [==============================] - 1s 23ms/step - loss: 0.2003 - accuracy: 0.9346 - val_loss: 0.2808 - val_accuracy: 0.8885\n",
            "Epoch 5/20\n",
            "30/30 [==============================] - 1s 26ms/step - loss: 0.1675 - accuracy: 0.9438 - val_loss: 0.2753 - val_accuracy: 0.8911\n",
            "Epoch 6/20\n",
            "30/30 [==============================] - 1s 44ms/step - loss: 0.1401 - accuracy: 0.9566 - val_loss: 0.2861 - val_accuracy: 0.8890\n",
            "Epoch 7/20\n",
            "30/30 [==============================] - 1s 31ms/step - loss: 0.1250 - accuracy: 0.9595 - val_loss: 0.2915 - val_accuracy: 0.8864\n",
            "Epoch 8/20\n",
            "30/30 [==============================] - 1s 26ms/step - loss: 0.1043 - accuracy: 0.9690 - val_loss: 0.3065 - val_accuracy: 0.8855\n",
            "Epoch 9/20\n",
            "30/30 [==============================] - 1s 23ms/step - loss: 0.0936 - accuracy: 0.9723 - val_loss: 0.3207 - val_accuracy: 0.8837\n",
            "Epoch 10/20\n",
            "30/30 [==============================] - 1s 23ms/step - loss: 0.0786 - accuracy: 0.9783 - val_loss: 0.3390 - val_accuracy: 0.8818\n",
            "Epoch 11/20\n",
            "30/30 [==============================] - 1s 25ms/step - loss: 0.0714 - accuracy: 0.9803 - val_loss: 0.3616 - val_accuracy: 0.8790\n",
            "Epoch 12/20\n",
            "30/30 [==============================] - 1s 25ms/step - loss: 0.0587 - accuracy: 0.9853 - val_loss: 0.3752 - val_accuracy: 0.8787\n",
            "Epoch 13/20\n",
            "30/30 [==============================] - 1s 23ms/step - loss: 0.0519 - accuracy: 0.9891 - val_loss: 0.4001 - val_accuracy: 0.8777\n",
            "Epoch 14/20\n",
            "30/30 [==============================] - 1s 25ms/step - loss: 0.0429 - accuracy: 0.9909 - val_loss: 0.4225 - val_accuracy: 0.8753\n",
            "Epoch 15/20\n",
            "30/30 [==============================] - 1s 23ms/step - loss: 0.0349 - accuracy: 0.9934 - val_loss: 0.4445 - val_accuracy: 0.8757\n",
            "Epoch 16/20\n",
            "30/30 [==============================] - 1s 24ms/step - loss: 0.0315 - accuracy: 0.9942 - val_loss: 0.4689 - val_accuracy: 0.8749\n",
            "Epoch 17/20\n",
            "30/30 [==============================] - 1s 25ms/step - loss: 0.0276 - accuracy: 0.9955 - val_loss: 0.4909 - val_accuracy: 0.8737\n",
            "Epoch 18/20\n",
            "30/30 [==============================] - 1s 26ms/step - loss: 0.0224 - accuracy: 0.9960 - val_loss: 0.5125 - val_accuracy: 0.8739\n",
            "Epoch 19/20\n",
            "30/30 [==============================] - 1s 23ms/step - loss: 0.0174 - accuracy: 0.9979 - val_loss: 0.5412 - val_accuracy: 0.8703\n",
            "Epoch 20/20\n",
            "30/30 [==============================] - 1s 26ms/step - loss: 0.0155 - accuracy: 0.9979 - val_loss: 0.5622 - val_accuracy: 0.8702\n"
          ]
        }
      ],
      "source": [
        "from tensorflow.keras.datasets import imdb\n",
        "(train_data, train_labels), _ = imdb.load_data(num_words=10000)\n",
        "\n",
        "def vectorize_sequences(sequences, dimension=10000):\n",
        "    results = np.zeros((len(sequences), dimension))\n",
        "    for i, sequence in enumerate(sequences):\n",
        "        results[i, sequence] = 1.\n",
        "    return results\n",
        "train_data = vectorize_sequences(train_data)\n",
        "\n",
        "model = keras.Sequential([\n",
        "    layers.Dense(16, activation=\"relu\"),\n",
        "    layers.Dense(16, activation=\"relu\"),\n",
        "    layers.Dense(1, activation=\"sigmoid\")\n",
        "])\n",
        "model.compile(optimizer=\"rmsprop\",\n",
        "              loss=\"binary_crossentropy\",\n",
        "              metrics=[\"accuracy\"])\n",
        "history_original = model.fit(train_data, train_labels,\n",
        "                             epochs=20, batch_size=512, validation_split=0.4)"
      ]
    },
    {
      "cell_type": "markdown",
      "metadata": {
        "id": "PxdCYz9FyPL-"
      },
      "source": [
        "**Version of the model with lower capacity**"
      ]
    },
    {
      "cell_type": "code",
      "execution_count": 14,
      "metadata": {
        "id": "Z3e45v0EyPMA",
        "outputId": "bef6e0cb-b731-4ff6-e6f7-dc3693bbaf7a",
        "colab": {
          "base_uri": "https://localhost:8080/"
        }
      },
      "outputs": [
        {
          "output_type": "stream",
          "name": "stdout",
          "text": [
            "Epoch 1/20\n",
            "30/30 [==============================] - 3s 54ms/step - loss: 0.6119 - accuracy: 0.7423 - val_loss: 0.5244 - val_accuracy: 0.8321\n",
            "Epoch 2/20\n",
            "30/30 [==============================] - 1s 25ms/step - loss: 0.4517 - accuracy: 0.8716 - val_loss: 0.4155 - val_accuracy: 0.8549\n",
            "Epoch 3/20\n",
            "30/30 [==============================] - 1s 25ms/step - loss: 0.3492 - accuracy: 0.8947 - val_loss: 0.3514 - val_accuracy: 0.8779\n",
            "Epoch 4/20\n",
            "30/30 [==============================] - 1s 24ms/step - loss: 0.2886 - accuracy: 0.9131 - val_loss: 0.3155 - val_accuracy: 0.8857\n",
            "Epoch 5/20\n",
            "30/30 [==============================] - 1s 25ms/step - loss: 0.2466 - accuracy: 0.9252 - val_loss: 0.2988 - val_accuracy: 0.8856\n",
            "Epoch 6/20\n",
            "30/30 [==============================] - 1s 23ms/step - loss: 0.2154 - accuracy: 0.9355 - val_loss: 0.2893 - val_accuracy: 0.8875\n",
            "Epoch 7/20\n",
            "30/30 [==============================] - 1s 23ms/step - loss: 0.1910 - accuracy: 0.9416 - val_loss: 0.2760 - val_accuracy: 0.8915\n",
            "Epoch 8/20\n",
            "30/30 [==============================] - 1s 31ms/step - loss: 0.1696 - accuracy: 0.9499 - val_loss: 0.2814 - val_accuracy: 0.8867\n",
            "Epoch 9/20\n",
            "30/30 [==============================] - 1s 32ms/step - loss: 0.1522 - accuracy: 0.9565 - val_loss: 0.2757 - val_accuracy: 0.8895\n",
            "Epoch 10/20\n",
            "30/30 [==============================] - 1s 30ms/step - loss: 0.1384 - accuracy: 0.9601 - val_loss: 0.2813 - val_accuracy: 0.8884\n",
            "Epoch 11/20\n",
            "30/30 [==============================] - 1s 25ms/step - loss: 0.1253 - accuracy: 0.9648 - val_loss: 0.2796 - val_accuracy: 0.8889\n",
            "Epoch 12/20\n",
            "30/30 [==============================] - 1s 25ms/step - loss: 0.1132 - accuracy: 0.9691 - val_loss: 0.2877 - val_accuracy: 0.8872\n",
            "Epoch 13/20\n",
            "30/30 [==============================] - 1s 23ms/step - loss: 0.1023 - accuracy: 0.9723 - val_loss: 0.2945 - val_accuracy: 0.8865\n",
            "Epoch 14/20\n",
            "30/30 [==============================] - 1s 25ms/step - loss: 0.0940 - accuracy: 0.9741 - val_loss: 0.3047 - val_accuracy: 0.8844\n",
            "Epoch 15/20\n",
            "30/30 [==============================] - 1s 25ms/step - loss: 0.0842 - accuracy: 0.9791 - val_loss: 0.3185 - val_accuracy: 0.8835\n",
            "Epoch 16/20\n",
            "30/30 [==============================] - 1s 25ms/step - loss: 0.0776 - accuracy: 0.9813 - val_loss: 0.3213 - val_accuracy: 0.8846\n",
            "Epoch 17/20\n",
            "30/30 [==============================] - 1s 22ms/step - loss: 0.0705 - accuracy: 0.9827 - val_loss: 0.3365 - val_accuracy: 0.8807\n",
            "Epoch 18/20\n",
            "30/30 [==============================] - 1s 22ms/step - loss: 0.0641 - accuracy: 0.9862 - val_loss: 0.3495 - val_accuracy: 0.8800\n",
            "Epoch 19/20\n",
            "30/30 [==============================] - 1s 22ms/step - loss: 0.0580 - accuracy: 0.9875 - val_loss: 0.3559 - val_accuracy: 0.8816\n",
            "Epoch 20/20\n",
            "30/30 [==============================] - 1s 23ms/step - loss: 0.0528 - accuracy: 0.9893 - val_loss: 0.3693 - val_accuracy: 0.8799\n"
          ]
        }
      ],
      "source": [
        "model = keras.Sequential([\n",
        "    layers.Dense(4, activation=\"relu\"),\n",
        "    layers.Dense(4, activation=\"relu\"),\n",
        "    layers.Dense(1, activation=\"sigmoid\")\n",
        "])\n",
        "model.compile(optimizer=\"rmsprop\",\n",
        "              loss=\"binary_crossentropy\",\n",
        "              metrics=[\"accuracy\"])\n",
        "history_smaller_model = model.fit(\n",
        "    train_data, train_labels,\n",
        "    epochs=20, batch_size=512, validation_split=0.4)"
      ]
    },
    {
      "cell_type": "markdown",
      "metadata": {
        "id": "pBb-VIdsyPMB"
      },
      "source": [
        "**Version of the model with higher capacity**"
      ]
    },
    {
      "cell_type": "code",
      "execution_count": 15,
      "metadata": {
        "id": "aifY7HCVyPMB",
        "outputId": "6e736502-b9a3-47c0-ad8b-cc2a753b0d58",
        "colab": {
          "base_uri": "https://localhost:8080/"
        }
      },
      "outputs": [
        {
          "output_type": "stream",
          "name": "stdout",
          "text": [
            "Epoch 1/20\n",
            "30/30 [==============================] - 3s 68ms/step - loss: 0.5693 - accuracy: 0.7581 - val_loss: 0.3325 - val_accuracy: 0.8707\n",
            "Epoch 2/20\n",
            "30/30 [==============================] - 1s 31ms/step - loss: 0.3113 - accuracy: 0.8718 - val_loss: 0.3426 - val_accuracy: 0.8526\n",
            "Epoch 3/20\n",
            "30/30 [==============================] - 1s 28ms/step - loss: 0.2347 - accuracy: 0.9027 - val_loss: 0.2868 - val_accuracy: 0.8799\n",
            "Epoch 4/20\n",
            "30/30 [==============================] - 1s 29ms/step - loss: 0.1831 - accuracy: 0.9281 - val_loss: 0.2854 - val_accuracy: 0.8818\n",
            "Epoch 5/20\n",
            "30/30 [==============================] - 1s 29ms/step - loss: 0.1374 - accuracy: 0.9475 - val_loss: 0.2883 - val_accuracy: 0.8887\n",
            "Epoch 6/20\n",
            "30/30 [==============================] - 1s 28ms/step - loss: 0.1089 - accuracy: 0.9640 - val_loss: 0.3423 - val_accuracy: 0.8790\n",
            "Epoch 7/20\n",
            "30/30 [==============================] - 1s 27ms/step - loss: 0.0898 - accuracy: 0.9739 - val_loss: 0.3415 - val_accuracy: 0.8848\n",
            "Epoch 8/20\n",
            "30/30 [==============================] - 1s 27ms/step - loss: 0.0728 - accuracy: 0.9776 - val_loss: 0.3060 - val_accuracy: 0.8826\n",
            "Epoch 9/20\n",
            "30/30 [==============================] - 1s 30ms/step - loss: 0.0164 - accuracy: 0.9984 - val_loss: 0.4365 - val_accuracy: 0.8832\n",
            "Epoch 10/20\n",
            "30/30 [==============================] - 1s 29ms/step - loss: 0.0976 - accuracy: 0.9778 - val_loss: 0.3671 - val_accuracy: 0.8827\n",
            "Epoch 11/20\n",
            "30/30 [==============================] - 1s 29ms/step - loss: 0.0075 - accuracy: 0.9997 - val_loss: 0.4752 - val_accuracy: 0.8842\n",
            "Epoch 12/20\n",
            "30/30 [==============================] - 1s 29ms/step - loss: 0.0033 - accuracy: 0.9999 - val_loss: 0.5425 - val_accuracy: 0.8826\n",
            "Epoch 13/20\n",
            "30/30 [==============================] - 1s 27ms/step - loss: 0.1119 - accuracy: 0.9808 - val_loss: 0.4656 - val_accuracy: 0.8820\n",
            "Epoch 14/20\n",
            "30/30 [==============================] - 1s 30ms/step - loss: 0.0025 - accuracy: 0.9999 - val_loss: 0.5444 - val_accuracy: 0.8831\n",
            "Epoch 15/20\n",
            "30/30 [==============================] - 1s 43ms/step - loss: 0.0013 - accuracy: 1.0000 - val_loss: 0.5949 - val_accuracy: 0.8823\n",
            "Epoch 16/20\n",
            "30/30 [==============================] - 1s 30ms/step - loss: 7.4577e-04 - accuracy: 1.0000 - val_loss: 0.6498 - val_accuracy: 0.8818\n",
            "Epoch 17/20\n",
            "30/30 [==============================] - 1s 29ms/step - loss: 4.7393e-04 - accuracy: 1.0000 - val_loss: 0.6863 - val_accuracy: 0.8810\n",
            "Epoch 18/20\n",
            "30/30 [==============================] - 1s 28ms/step - loss: 3.3760e-04 - accuracy: 1.0000 - val_loss: 0.7190 - val_accuracy: 0.8801\n",
            "Epoch 19/20\n",
            "30/30 [==============================] - 1s 28ms/step - loss: 2.5725e-04 - accuracy: 1.0000 - val_loss: 0.7406 - val_accuracy: 0.8803\n",
            "Epoch 20/20\n",
            "30/30 [==============================] - 1s 26ms/step - loss: 2.0221e-04 - accuracy: 1.0000 - val_loss: 0.7515 - val_accuracy: 0.8812\n"
          ]
        }
      ],
      "source": [
        "model = keras.Sequential([\n",
        "    layers.Dense(512, activation=\"relu\"),\n",
        "    layers.Dense(512, activation=\"relu\"),\n",
        "    layers.Dense(1, activation=\"sigmoid\")\n",
        "])\n",
        "model.compile(optimizer=\"rmsprop\",\n",
        "              loss=\"binary_crossentropy\",\n",
        "              metrics=[\"accuracy\"])\n",
        "history_larger_model = model.fit(\n",
        "    train_data, train_labels,\n",
        "    epochs=20, batch_size=512, validation_split=0.4)"
      ]
    },
    {
      "cell_type": "code",
      "source": [
        "val_loss_original = history_original.history[\"val_loss\"]\n",
        "val_loss_smaller = history_smaller_model.history[\"val_loss\"]\n",
        "val_loss_larger = history_larger_model.history[\"val_loss\"]\n",
        "\n",
        "epochs = range(1, 21)\n",
        "plt.plot(epochs, val_loss_original, \"b-\",\n",
        "         label=\"Validation loss of origianl midel\")\n",
        "plt.plot(epochs, val_loss_smaller, \"b--\",\n",
        "         label=\"Validation loss of smaller midel\")\n",
        "plt.plot(epochs, val_loss_larger, \"r--\",\n",
        "         label=\"Validation loss of larger midel\")\n",
        "plt.xlabel(\"Epochs\")\n",
        "plt.ylabel(\"Loss\")\n",
        "plt.legend()"
      ],
      "metadata": {
        "id": "oyfIDEJVARFn",
        "outputId": "62d3a4a9-b5e0-466e-88b2-63cc170342d7",
        "colab": {
          "base_uri": "https://localhost:8080/",
          "height": 467
        }
      },
      "execution_count": 16,
      "outputs": [
        {
          "output_type": "execute_result",
          "data": {
            "text/plain": [
              "<matplotlib.legend.Legend at 0x7fcf3da933d0>"
            ]
          },
          "metadata": {},
          "execution_count": 16
        },
        {
          "output_type": "display_data",
          "data": {
            "text/plain": [
              "<Figure size 640x480 with 1 Axes>"
            ],
            "image/png": "[encoded data removed]"
          },
          "metadata": {}
        }
      ]
    },
    {
      "cell_type": "markdown",
      "metadata": {
        "id": "xvzhSXQoyPMC"
      },
      "source": [
        "#### Adding weight regularization"
      ]
    },
    {
      "cell_type": "markdown",
      "metadata": {
        "id": "lyQ3F4rnyPMD"
      },
      "source": [
        "**Adding L2 weight regularization to the model**"
      ]
    },
    {
      "cell_type": "code",
      "execution_count": 17,
      "metadata": {
        "id": "Dmwtbc23yPMD",
        "colab": {
          "base_uri": "https://localhost:8080/"
        },
        "outputId": "11956c55-1554-45a5-e0a3-105a6de5fa9c"
      },
      "outputs": [
        {
          "output_type": "stream",
          "name": "stdout",
          "text": [
            "Epoch 1/20\n",
            "30/30 [==============================] - 3s 57ms/step - loss: 0.6150 - accuracy: 0.7866 - val_loss: 0.4969 - val_accuracy: 0.8490\n",
            "Epoch 2/20\n",
            "30/30 [==============================] - 1s 26ms/step - loss: 0.4169 - accuracy: 0.8889 - val_loss: 0.4094 - val_accuracy: 0.8728\n",
            "Epoch 3/20\n",
            "30/30 [==============================] - 1s 31ms/step - loss: 0.3455 - accuracy: 0.9045 - val_loss: 0.3735 - val_accuracy: 0.8811\n",
            "Epoch 4/20\n",
            "30/30 [==============================] - 1s 31ms/step - loss: 0.3072 - accuracy: 0.9213 - val_loss: 0.3918 - val_accuracy: 0.8699\n",
            "Epoch 5/20\n",
            "30/30 [==============================] - 1s 27ms/step - loss: 0.2832 - accuracy: 0.9283 - val_loss: 0.3591 - val_accuracy: 0.8878\n",
            "Epoch 6/20\n",
            "30/30 [==============================] - 1s 23ms/step - loss: 0.2693 - accuracy: 0.9351 - val_loss: 0.3650 - val_accuracy: 0.8839\n",
            "Epoch 7/20\n",
            "30/30 [==============================] - 1s 22ms/step - loss: 0.2546 - accuracy: 0.9401 - val_loss: 0.3670 - val_accuracy: 0.8840\n",
            "Epoch 8/20\n",
            "30/30 [==============================] - 1s 26ms/step - loss: 0.2456 - accuracy: 0.9445 - val_loss: 0.3671 - val_accuracy: 0.8851\n",
            "Epoch 9/20\n",
            "30/30 [==============================] - 1s 23ms/step - loss: 0.2388 - accuracy: 0.9481 - val_loss: 0.3725 - val_accuracy: 0.8826\n",
            "Epoch 10/20\n",
            "30/30 [==============================] - 1s 25ms/step - loss: 0.2314 - accuracy: 0.9497 - val_loss: 0.4291 - val_accuracy: 0.8652\n",
            "Epoch 11/20\n",
            "30/30 [==============================] - 1s 24ms/step - loss: 0.2297 - accuracy: 0.9503 - val_loss: 0.4276 - val_accuracy: 0.8656\n",
            "Epoch 12/20\n",
            "30/30 [==============================] - 1s 23ms/step - loss: 0.2239 - accuracy: 0.9531 - val_loss: 0.3941 - val_accuracy: 0.8778\n",
            "Epoch 13/20\n",
            "30/30 [==============================] - 1s 25ms/step - loss: 0.2189 - accuracy: 0.9539 - val_loss: 0.4136 - val_accuracy: 0.8735\n",
            "Epoch 14/20\n",
            "30/30 [==============================] - 1s 24ms/step - loss: 0.2168 - accuracy: 0.9568 - val_loss: 0.3966 - val_accuracy: 0.8796\n",
            "Epoch 15/20\n",
            "30/30 [==============================] - 1s 24ms/step - loss: 0.2133 - accuracy: 0.9564 - val_loss: 0.3978 - val_accuracy: 0.8775\n",
            "Epoch 16/20\n",
            "30/30 [==============================] - 1s 24ms/step - loss: 0.2128 - accuracy: 0.9557 - val_loss: 0.4050 - val_accuracy: 0.8761\n",
            "Epoch 17/20\n",
            "30/30 [==============================] - 1s 23ms/step - loss: 0.2048 - accuracy: 0.9610 - val_loss: 0.4149 - val_accuracy: 0.8747\n",
            "Epoch 18/20\n",
            "30/30 [==============================] - 1s 23ms/step - loss: 0.2074 - accuracy: 0.9592 - val_loss: 0.4125 - val_accuracy: 0.8761\n",
            "Epoch 19/20\n",
            "30/30 [==============================] - 1s 27ms/step - loss: 0.1985 - accuracy: 0.9636 - val_loss: 0.4828 - val_accuracy: 0.8590\n",
            "Epoch 20/20\n",
            "30/30 [==============================] - 1s 30ms/step - loss: 0.1981 - accuracy: 0.9634 - val_loss: 0.5196 - val_accuracy: 0.8498\n"
          ]
        }
      ],
      "source": [
        "from tensorflow.keras import regularizers\n",
        "model = keras.Sequential([\n",
        "    layers.Dense(16,\n",
        "                 kernel_regularizer=regularizers.l2(0.002),\n",
        "                 activation=\"relu\"),\n",
        "    layers.Dense(16,\n",
        "                 kernel_regularizer=regularizers.l2(0.002),\n",
        "                 activation=\"relu\"),\n",
        "    layers.Dense(1, activation=\"sigmoid\")\n",
        "])\n",
        "model.compile(optimizer=\"rmsprop\",\n",
        "              loss=\"binary_crossentropy\",\n",
        "              metrics=[\"accuracy\"])\n",
        "history_l2_reg = model.fit(\n",
        "    train_data, train_labels,\n",
        "    epochs=20, batch_size=512, validation_split=0.4)"
      ]
    },
    {
      "cell_type": "markdown",
      "metadata": {
        "id": "qFp1eQqnyPMF"
      },
      "source": [
        "**Different weight regularizers available in Keras**"
      ]
    },
    {
      "cell_type": "code",
      "execution_count": 18,
      "metadata": {
        "id": "pHqgyTBTyPMG",
        "colab": {
          "base_uri": "https://localhost:8080/"
        },
        "outputId": "c3cb3573-b48b-49ec-e885-7be8fde3a333"
      },
      "outputs": [
        {
          "output_type": "execute_result",
          "data": {
            "text/plain": [
              "<keras.regularizers.L1L2 at 0x7fce1023ebe0>"
            ]
          },
          "metadata": {},
          "execution_count": 18
        }
      ],
      "source": [
        "from tensorflow.keras import regularizers\n",
        "regularizers.l1(0.001)\n",
        "regularizers.l1_l2(l1=0.001, l2=0.001)"
      ]
    },
    {
      "cell_type": "markdown",
      "metadata": {
        "id": "QjtCOYgByPMH"
      },
      "source": [
        "#### Adding dropout"
      ]
    },
    {
      "cell_type": "markdown",
      "metadata": {
        "id": "UyJTo70QyPMH"
      },
      "source": [
        "**Adding dropout to the IMDB model**"
      ]
    },
    {
      "cell_type": "code",
      "execution_count": 19,
      "metadata": {
        "id": "tuLCGJtHyPMI",
        "colab": {
          "base_uri": "https://localhost:8080/"
        },
        "outputId": "a2cd0887-a6b9-4526-fb50-ce9f2f980566"
      },
      "outputs": [
        {
          "output_type": "stream",
          "name": "stdout",
          "text": [
            "Epoch 1/20\n",
            "30/30 [==============================] - 3s 60ms/step - loss: 0.6308 - accuracy: 0.6396 - val_loss: 0.4966 - val_accuracy: 0.8488\n",
            "Epoch 2/20\n",
            "30/30 [==============================] - 1s 26ms/step - loss: 0.4963 - accuracy: 0.7769 - val_loss: 0.3868 - val_accuracy: 0.8691\n",
            "Epoch 3/20\n",
            "30/30 [==============================] - 1s 24ms/step - loss: 0.4053 - accuracy: 0.8390 - val_loss: 0.3390 - val_accuracy: 0.8669\n",
            "Epoch 4/20\n",
            "30/30 [==============================] - 1s 26ms/step - loss: 0.3494 - accuracy: 0.8697 - val_loss: 0.2869 - val_accuracy: 0.8890\n",
            "Epoch 5/20\n",
            "30/30 [==============================] - 1s 31ms/step - loss: 0.3025 - accuracy: 0.8907 - val_loss: 0.2778 - val_accuracy: 0.8913\n",
            "Epoch 6/20\n",
            "30/30 [==============================] - 1s 30ms/step - loss: 0.2631 - accuracy: 0.9097 - val_loss: 0.2890 - val_accuracy: 0.8853\n",
            "Epoch 7/20\n",
            "30/30 [==============================] - 1s 29ms/step - loss: 0.2350 - accuracy: 0.9196 - val_loss: 0.2777 - val_accuracy: 0.8891\n",
            "Epoch 8/20\n",
            "30/30 [==============================] - 1s 25ms/step - loss: 0.2074 - accuracy: 0.9296 - val_loss: 0.2834 - val_accuracy: 0.8908\n",
            "Epoch 9/20\n",
            "30/30 [==============================] - 1s 26ms/step - loss: 0.1834 - accuracy: 0.9411 - val_loss: 0.3109 - val_accuracy: 0.8850\n",
            "Epoch 10/20\n",
            "30/30 [==============================] - 1s 25ms/step - loss: 0.1690 - accuracy: 0.9465 - val_loss: 0.3117 - val_accuracy: 0.8884\n",
            "Epoch 11/20\n",
            "30/30 [==============================] - 1s 22ms/step - loss: 0.1482 - accuracy: 0.9504 - val_loss: 0.3301 - val_accuracy: 0.8880\n",
            "Epoch 12/20\n",
            "30/30 [==============================] - 1s 25ms/step - loss: 0.1378 - accuracy: 0.9533 - val_loss: 0.3573 - val_accuracy: 0.8861\n",
            "Epoch 13/20\n",
            "30/30 [==============================] - 1s 23ms/step - loss: 0.1221 - accuracy: 0.9589 - val_loss: 0.3790 - val_accuracy: 0.8877\n",
            "Epoch 14/20\n",
            "30/30 [==============================] - 1s 23ms/step - loss: 0.1167 - accuracy: 0.9619 - val_loss: 0.3898 - val_accuracy: 0.8851\n",
            "Epoch 15/20\n",
            "30/30 [==============================] - 1s 26ms/step - loss: 0.1027 - accuracy: 0.9649 - val_loss: 0.4146 - val_accuracy: 0.8873\n",
            "Epoch 16/20\n",
            "30/30 [==============================] - 1s 26ms/step - loss: 0.0968 - accuracy: 0.9669 - val_loss: 0.4872 - val_accuracy: 0.8826\n",
            "Epoch 17/20\n",
            "30/30 [==============================] - 1s 25ms/step - loss: 0.0912 - accuracy: 0.9665 - val_loss: 0.4877 - val_accuracy: 0.8852\n",
            "Epoch 18/20\n",
            "30/30 [==============================] - 1s 23ms/step - loss: 0.0882 - accuracy: 0.9683 - val_loss: 0.4974 - val_accuracy: 0.8840\n",
            "Epoch 19/20\n",
            "30/30 [==============================] - 1s 24ms/step - loss: 0.0757 - accuracy: 0.9709 - val_loss: 0.5207 - val_accuracy: 0.8819\n",
            "Epoch 20/20\n",
            "30/30 [==============================] - 1s 23ms/step - loss: 0.0786 - accuracy: 0.9689 - val_loss: 0.5506 - val_accuracy: 0.8839\n"
          ]
        }
      ],
      "source": [
        "model = keras.Sequential([\n",
        "    layers.Dense(16, activation=\"relu\"),\n",
        "    layers.Dropout(0.5),\n",
        "    layers.Dense(16, activation=\"relu\"),\n",
        "    layers.Dropout(0.5),\n",
        "    layers.Dense(1, activation=\"sigmoid\")\n",
        "])\n",
        "model.compile(optimizer=\"rmsprop\",\n",
        "              loss=\"binary_crossentropy\",\n",
        "              metrics=[\"accuracy\"])\n",
        "history_dropout = model.fit(\n",
        "    train_data, train_labels,\n",
        "    epochs=20, batch_size=512, validation_split=0.4)"
      ]
    },
    {
      "cell_type": "code",
      "source": [
        "model = keras.Sequential([\n",
        "    layers.Dense(16, activation=\"relu\"),\n",
        "    layers.Dense(16, activation=\"relu\"),\n",
        "    layers.Dense(1, activation=\"sigmoid\")\n",
        "])\n",
        "model.compile(optimizer=\"rmsprop\",\n",
        "              loss=\"binary_crossentropy\",\n",
        "              metrics=[\"accuracy\"])\n",
        "history_original = model.fit(\n",
        "    train_data, train_labels,\n",
        "    epochs=20, batch_size=512, validation_split=0.4)"
      ],
      "metadata": {
        "colab": {
          "base_uri": "https://localhost:8080/"
        },
        "id": "X8uQ7sn_kF1G",
        "outputId": "07ca4f20-75cc-4137-c3b6-bda6e3da98b6"
      },
      "execution_count": 20,
      "outputs": [
        {
          "output_type": "stream",
          "name": "stdout",
          "text": [
            "Epoch 1/20\n",
            "30/30 [==============================] - 4s 58ms/step - loss: 0.5826 - accuracy: 0.7427 - val_loss: 0.4850 - val_accuracy: 0.8568\n",
            "Epoch 2/20\n",
            "30/30 [==============================] - 1s 25ms/step - loss: 0.3946 - accuracy: 0.8789 - val_loss: 0.3558 - val_accuracy: 0.8766\n",
            "Epoch 3/20\n",
            "30/30 [==============================] - 1s 25ms/step - loss: 0.2889 - accuracy: 0.9109 - val_loss: 0.3095 - val_accuracy: 0.8850\n",
            "Epoch 4/20\n",
            "30/30 [==============================] - 1s 23ms/step - loss: 0.2308 - accuracy: 0.9274 - val_loss: 0.2877 - val_accuracy: 0.8875\n",
            "Epoch 5/20\n",
            "30/30 [==============================] - 1s 31ms/step - loss: 0.1915 - accuracy: 0.9407 - val_loss: 0.2814 - val_accuracy: 0.8886\n",
            "Epoch 6/20\n",
            "30/30 [==============================] - 1s 29ms/step - loss: 0.1639 - accuracy: 0.9483 - val_loss: 0.2857 - val_accuracy: 0.8876\n",
            "Epoch 7/20\n",
            "30/30 [==============================] - 1s 23ms/step - loss: 0.1411 - accuracy: 0.9579 - val_loss: 0.2892 - val_accuracy: 0.8873\n",
            "Epoch 8/20\n",
            "30/30 [==============================] - 1s 23ms/step - loss: 0.1219 - accuracy: 0.9642 - val_loss: 0.3000 - val_accuracy: 0.8862\n",
            "Epoch 9/20\n",
            "30/30 [==============================] - 1s 23ms/step - loss: 0.1092 - accuracy: 0.9670 - val_loss: 0.3071 - val_accuracy: 0.8856\n",
            "Epoch 10/20\n",
            "30/30 [==============================] - 1s 23ms/step - loss: 0.0936 - accuracy: 0.9742 - val_loss: 0.3312 - val_accuracy: 0.8805\n",
            "Epoch 11/20\n",
            "30/30 [==============================] - 1s 25ms/step - loss: 0.0836 - accuracy: 0.9790 - val_loss: 0.3394 - val_accuracy: 0.8809\n",
            "Epoch 12/20\n",
            "30/30 [==============================] - 1s 23ms/step - loss: 0.0727 - accuracy: 0.9819 - val_loss: 0.3584 - val_accuracy: 0.8783\n",
            "Epoch 13/20\n",
            "30/30 [==============================] - 1s 23ms/step - loss: 0.0640 - accuracy: 0.9848 - val_loss: 0.4508 - val_accuracy: 0.8626\n",
            "Epoch 14/20\n",
            "30/30 [==============================] - 1s 23ms/step - loss: 0.0557 - accuracy: 0.9891 - val_loss: 0.4077 - val_accuracy: 0.8730\n",
            "Epoch 15/20\n",
            "30/30 [==============================] - 1s 25ms/step - loss: 0.0500 - accuracy: 0.9883 - val_loss: 0.4066 - val_accuracy: 0.8753\n",
            "Epoch 16/20\n",
            "30/30 [==============================] - 1s 23ms/step - loss: 0.0459 - accuracy: 0.9894 - val_loss: 0.4280 - val_accuracy: 0.8736\n",
            "Epoch 17/20\n",
            "30/30 [==============================] - 1s 25ms/step - loss: 0.0337 - accuracy: 0.9948 - val_loss: 0.4631 - val_accuracy: 0.8681\n",
            "Epoch 18/20\n",
            "30/30 [==============================] - 1s 24ms/step - loss: 0.0343 - accuracy: 0.9939 - val_loss: 0.4857 - val_accuracy: 0.8713\n",
            "Epoch 19/20\n",
            "30/30 [==============================] - 1s 23ms/step - loss: 0.0289 - accuracy: 0.9955 - val_loss: 0.4833 - val_accuracy: 0.8709\n",
            "Epoch 20/20\n",
            "30/30 [==============================] - 1s 24ms/step - loss: 0.0232 - accuracy: 0.9972 - val_loss: 0.5023 - val_accuracy: 0.8699\n"
          ]
        }
      ]
    },
    {
      "cell_type": "code",
      "source": [
        "val_loss_dropout = history_dropout.history[\"val_loss\"]\n",
        "val_loss_original = history_original.history['val_loss']\n",
        "epochs = range(1, 21)\n",
        "plt.plot(epochs, val_loss_dropout, \"b-\",\n",
        "         label=\"Validation loss of dropout model\")\n",
        "plt.plot(epochs, val_loss_original, \"b--\",\n",
        "         label=\"Validation loss of original model\")\n",
        "plt.xlabel(\"Epochs\")\n",
        "plt.ylabel(\"Loss\")\n",
        "plt.legend()\n",
        "plt.show()"
      ],
      "metadata": {
        "colab": {
          "base_uri": "https://localhost:8080/",
          "height": 449
        },
        "id": "FCgVyrGik4dr",
        "outputId": "90f60a63-38d8-4e4a-f2c8-24b56aa7d63c"
      },
      "execution_count": 22,
      "outputs": [
        {
          "output_type": "display_data",
          "data": {
            "text/plain": [
              "<Figure size 640x480 with 1 Axes>"
            ],
            "image/png": "[encoded data removed]"
          },
          "metadata": {}
        }
      ]
    },
    {
      "cell_type": "markdown",
      "metadata": {
        "id": "ou96tNqfyPMK"
      },
      "source": [
        "## Summary"
      ]
    }
  ],
  "metadata": {
    "colab": {
      "provenance": []
    },
    "kernelspec": {
      "display_name": "Python 3",
      "language": "python",
      "name": "python3"
    },
    "language_info": {
      "codemirror_mode": {
        "name": "ipython",
        "version": 3
      },
      "file_extension": ".py",
      "mimetype": "text/x-python",
      "name": "python",
      "nbconvert_exporter": "python",
      "pygments_lexer": "ipython3",
      "version": "3.7.0"
    },
    "accelerator": "GPU",
    "gpuClass": "standard"
  },
  "nbformat": 4,
  "nbformat_minor": 0
}